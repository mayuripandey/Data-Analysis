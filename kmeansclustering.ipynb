{
  "nbformat": 4,
  "nbformat_minor": 0,
  "metadata": {
    "colab": {
      "name": "kmeansclustering.ipynb",
      "provenance": [],
      "authorship_tag": "ABX9TyPl+R014FnXGgZptf1dLOO/",
      "include_colab_link": true
    },
    "kernelspec": {
      "name": "python3",
      "display_name": "Python 3"
    },
    "language_info": {
      "name": "python"
    }
  },
  "cells": [
    {
      "cell_type": "markdown",
      "metadata": {
        "id": "view-in-github",
        "colab_type": "text"
      },
      "source": [
        "<a href=\"https://colab.research.google.com/github/mayuripandey/Data-Analysis/blob/main/kmeansclustering.ipynb\" target=\"_parent\"><img src=\"https://colab.research.google.com/assets/colab-badge.svg\" alt=\"Open In Colab\"/></a>"
      ]
    },
    {
      "cell_type": "code",
      "execution_count": 1,
      "metadata": {
        "id": "2K5kGFFy9Stz"
      },
      "outputs": [],
      "source": [
        "import numpy as np\n",
        "import matplotlib.pyplot as plt\n",
        "from scipy.spatial.distance import cdist"
      ]
    },
    {
      "cell_type": "code",
      "source": [
        "np.random.seed(14)\n",
        "n = 20\n",
        "p = 2\n",
        "k = 3\n",
        "X = np.random.random((n,p))"
      ],
      "metadata": {
        "id": "goS-SwvK9rwP"
      },
      "execution_count": 2,
      "outputs": []
    },
    {
      "cell_type": "code",
      "source": [
        "plt.scatter(X[:,0], X[:,1])"
      ],
      "metadata": {
        "colab": {
          "base_uri": "https://localhost:8080/",
          "height": 282
        },
        "id": "-pGrwZw390Un",
        "outputId": "46313bbd-2719-47cc-ff7d-5c51435ab433"
      },
      "execution_count": 3,
      "outputs": [
        {
          "output_type": "execute_result",
          "data": {
            "text/plain": [
              "<matplotlib.collections.PathCollection at 0x7fe95dff3f90>"
            ]
          },
          "metadata": {},
          "execution_count": 3
        },
        {
          "output_type": "display_data",
          "data": {
            "image/png": "[encoded data removed]",
            "text/plain": [
              "<Figure size 432x288 with 1 Axes>"
            ]
          },
          "metadata": {
            "needs_background": "light"
          }
        }
      ]
    },
    {
      "cell_type": "code",
      "source": [
        "# init centers\n",
        "centers = X[np.random.choice(n, k, replace=False)]"
      ],
      "metadata": {
        "id": "rwFVLxC_96Tg"
      },
      "execution_count": 4,
      "outputs": []
    },
    {
      "cell_type": "code",
      "source": [
        "((X[0]-centers[0])**2).sum()**0.5"
      ],
      "metadata": {
        "colab": {
          "base_uri": "https://localhost:8080/"
        },
        "id": "7Jg1sXBU-CrO",
        "outputId": "804453f7-dbc0-4ca6-b1fe-ebf792bc3f1d"
      },
      "execution_count": 5,
      "outputs": [
        {
          "output_type": "execute_result",
          "data": {
            "text/plain": [
              "0.7676966627027265"
            ]
          },
          "metadata": {},
          "execution_count": 5
        }
      ]
    },
    {
      "cell_type": "code",
      "source": [
        "((X-centers[0])**2).sum(axis=1)"
      ],
      "metadata": {
        "colab": {
          "base_uri": "https://localhost:8080/"
        },
        "id": "VAGXEK3v-Hd-",
        "outputId": "637828ce-c3b1-4917-a4ea-17c4e128b5c2"
      },
      "execution_count": 6,
      "outputs": [
        {
          "output_type": "execute_result",
          "data": {
            "text/plain": [
              "array([0.58935817, 0.10992272, 0.95830097, 0.09826461, 0.04638914,\n",
              "       0.18475782, 0.        , 0.05970414, 0.29067225, 0.6190457 ,\n",
              "       0.12083103, 0.27701494, 0.08133111, 0.45029453, 0.22733973,\n",
              "       0.12755829, 0.04631859, 0.57972669, 0.98838235, 0.04138358])"
            ]
          },
          "metadata": {},
          "execution_count": 6
        }
      ]
    },
    {
      "cell_type": "code",
      "source": [
        "((X.reshape(n,1,p)-centers.reshape(1,k,p))**2).sum(axis=2)**0.5"
      ],
      "metadata": {
        "colab": {
          "base_uri": "https://localhost:8080/"
        },
        "id": "qLfWHBPQ-MEG",
        "outputId": "07dad3cc-946f-48af-ed47-78934deb1312"
      },
      "execution_count": 7,
      "outputs": [
        {
          "output_type": "execute_result",
          "data": {
            "text/plain": [
              "array([[0.76769666, 0.78448615, 0.36700273],\n",
              "       [0.33154596, 0.07722155, 0.73704815],\n",
              "       [0.97892848, 1.04793878, 0.4827943 ],\n",
              "       [0.31347187, 0.44202429, 0.26440458],\n",
              "       [0.21538138, 0.37464254, 0.34858479],\n",
              "       [0.42983464, 0.27129713, 0.52347543],\n",
              "       [0.        , 0.35715303, 0.52632209],\n",
              "       [0.2443443 , 0.24901305, 0.45753289],\n",
              "       [0.53914029, 0.29435872, 0.64042595],\n",
              "       [0.78679457, 0.6930882 , 0.53635628],\n",
              "       [0.34760758, 0.03172537, 0.67708181],\n",
              "       [0.52632209, 0.70598071, 0.        ],\n",
              "       [0.2851861 , 0.27643117, 0.43155334],\n",
              "       [0.67103989, 0.60317091, 0.44046217],\n",
              "       [0.47680156, 0.74481974, 0.1931445 ],\n",
              "       [0.35715303, 0.        , 0.70598071],\n",
              "       [0.21521753, 0.14252875, 0.60789768],\n",
              "       [0.76139786, 0.67738348, 0.50765081],\n",
              "       [0.9941742 , 1.02691887, 0.52761227],\n",
              "       [0.20342955, 0.44824302, 0.32304535]])"
            ]
          },
          "metadata": {},
          "execution_count": 7
        }
      ]
    },
    {
      "cell_type": "code",
      "source": [
        "distances = np.zeros((n,k))\n",
        "for i in range(k):\n",
        "    distances[:,i] = ((X-centers[i])**2).sum(axis=1)**0.5\n",
        "distances"
      ],
      "metadata": {
        "colab": {
          "base_uri": "https://localhost:8080/"
        },
        "id": "UeH_xrv2-VP9",
        "outputId": "a1a679f7-04cd-4773-97c6-552291fb5689"
      },
      "execution_count": 8,
      "outputs": [
        {
          "output_type": "execute_result",
          "data": {
            "text/plain": [
              "array([[0.76769666, 0.78448615, 0.36700273],\n",
              "       [0.33154596, 0.07722155, 0.73704815],\n",
              "       [0.97892848, 1.04793878, 0.4827943 ],\n",
              "       [0.31347187, 0.44202429, 0.26440458],\n",
              "       [0.21538138, 0.37464254, 0.34858479],\n",
              "       [0.42983464, 0.27129713, 0.52347543],\n",
              "       [0.        , 0.35715303, 0.52632209],\n",
              "       [0.2443443 , 0.24901305, 0.45753289],\n",
              "       [0.53914029, 0.29435872, 0.64042595],\n",
              "       [0.78679457, 0.6930882 , 0.53635628],\n",
              "       [0.34760758, 0.03172537, 0.67708181],\n",
              "       [0.52632209, 0.70598071, 0.        ],\n",
              "       [0.2851861 , 0.27643117, 0.43155334],\n",
              "       [0.67103989, 0.60317091, 0.44046217],\n",
              "       [0.47680156, 0.74481974, 0.1931445 ],\n",
              "       [0.35715303, 0.        , 0.70598071],\n",
              "       [0.21521753, 0.14252875, 0.60789768],\n",
              "       [0.76139786, 0.67738348, 0.50765081],\n",
              "       [0.9941742 , 1.02691887, 0.52761227],\n",
              "       [0.20342955, 0.44824302, 0.32304535]])"
            ]
          },
          "metadata": {},
          "execution_count": 8
        }
      ]
    },
    {
      "cell_type": "code",
      "source": [
        "# update cluster membership\n",
        "distances = cdist(X, centers)\n",
        "closest = np.argmin(distances, axis=1)"
      ],
      "metadata": {
        "id": "vPLW8LSy-X7-"
      },
      "execution_count": 9,
      "outputs": []
    },
    {
      "cell_type": "code",
      "source": [
        "X[closest == 0].mean(axis=0)"
      ],
      "metadata": {
        "colab": {
          "base_uri": "https://localhost:8080/"
        },
        "id": "um0h3uau-dbC",
        "outputId": "ef6a329c-c0e4-4969-a44c-e0515c8a98a7"
      },
      "execution_count": 10,
      "outputs": [
        {
          "output_type": "execute_result",
          "data": {
            "text/plain": [
              "array([0.55084464, 0.15675788])"
            ]
          },
          "metadata": {},
          "execution_count": 10
        }
      ]
    },
    {
      "cell_type": "code",
      "source": [
        "# update centers\n",
        "for i in range(k):\n",
        "    centers[i, :] = X[closest == i].mean(axis=0)\n",
        "centers"
      ],
      "metadata": {
        "colab": {
          "base_uri": "https://localhost:8080/"
        },
        "id": "1LKcp0OX-y0u",
        "outputId": "f5828e22-0615-4f46-bbac-f668a91db360"
      },
      "execution_count": 11,
      "outputs": [
        {
          "output_type": "execute_result",
          "data": {
            "text/plain": [
              "array([[0.55084464, 0.15675788],\n",
              "       [0.82671491, 0.17684988],\n",
              "       [0.49020699, 0.66667282]])"
            ]
          },
          "metadata": {},
          "execution_count": 11
        }
      ]
    },
    {
      "cell_type": "code",
      "source": [
        "np.random.seed(4160659)\n",
        "centers = X[np.random.choice(n, k, replace=False)]\n",
        "closest = np.zeros(n).astype(int)\n",
        "\n",
        "while True:\n",
        "    old_closest = closest.copy()\n",
        "    print(closest)\n",
        "    distances = cdist(X, centers)\n",
        "    closest = np.argmin(distances, axis=1)\n",
        "    \n",
        "    for i in range(k):\n",
        "        centers[i, :] = X[closest == i].mean(axis=0)\n",
        "        \n",
        "    if all(closest == old_closest):\n",
        "        break"
      ],
      "metadata": {
        "colab": {
          "base_uri": "https://localhost:8080/"
        },
        "id": "_G4XvdjR-2r4",
        "outputId": "ea734061-1415-4289-c468-183111897dcb"
      },
      "execution_count": 12,
      "outputs": [
        {
          "output_type": "stream",
          "name": "stdout",
          "text": [
            "[0 0 0 0 0 0 0 0 0 0 0 0 0 0 0 0 0 0 0 0]\n",
            "[2 0 2 1 1 1 0 1 1 2 1 2 1 2 2 1 0 2 2 1]\n",
            "[2 0 2 1 1 1 0 1 1 2 0 2 1 2 2 0 0 2 2 1]\n",
            "[2 0 2 1 1 1 0 1 1 2 0 2 1 2 1 0 0 2 2 1]\n",
            "[2 0 2 1 1 1 0 1 1 2 0 1 1 2 1 0 0 2 2 1]\n",
            "[2 0 2 1 1 1 0 1 0 2 0 1 1 2 1 0 0 2 2 1]\n",
            "[2 0 2 1 1 0 1 0 0 2 0 1 1 2 1 0 0 2 2 1]\n",
            "[2 0 2 1 1 0 1 0 0 2 0 1 0 2 1 0 0 2 2 1]\n"
          ]
        }
      ]
    },
    {
      "cell_type": "code",
      "source": [
        "plt.scatter(X[:,0],X[:,1],c=closest)"
      ],
      "metadata": {
        "colab": {
          "base_uri": "https://localhost:8080/",
          "height": 282
        },
        "id": "kEeceMMu-9l3",
        "outputId": "eadc11e2-9477-4fc7-c1ac-96189e6e6af4"
      },
      "execution_count": 13,
      "outputs": [
        {
          "output_type": "execute_result",
          "data": {
            "text/plain": [
              "<matplotlib.collections.PathCollection at 0x7fe95db00bd0>"
            ]
          },
          "metadata": {},
          "execution_count": 13
        },
        {
          "output_type": "display_data",
          "data": {
            "image/png": "[encoded data removed]",
            "text/plain": [
              "<Figure size 432x288 with 1 Axes>"
            ]
          },
          "metadata": {
            "needs_background": "light"
          }
        }
      ]
    }
  ]
}