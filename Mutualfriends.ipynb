{
  "nbformat": 4,
  "nbformat_minor": 0,
  "metadata": {
    "colab": {
      "name": "Mutualfriends.ipynb",
      "provenance": [],
      "authorship_tag": "ABX9TyO0G6NGem2BxfkQRsGfkUAa",
      "include_colab_link": true
    },
    "kernelspec": {
      "name": "python3",
      "display_name": "Python 3"
    },
    "language_info": {
      "name": "python"
    }
  },
  "cells": [
    {
      "cell_type": "markdown",
      "metadata": {
        "id": "view-in-github",
        "colab_type": "text"
      },
      "source": [
        "<a href=\"https://colab.research.google.com/github/mayuripandey/Data-Analysis/blob/main/Mutualfriends.ipynb\" target=\"_parent\"><img src=\"https://colab.research.google.com/assets/colab-badge.svg\" alt=\"Open In Colab\"/></a>"
      ]
    },
    {
      "cell_type": "code",
      "execution_count": 1,
      "metadata": {
        "id": "lIyrEOMcvnGV"
      },
      "outputs": [],
      "source": [
        "import time\n",
        "import tweepy\n",
        "\n",
        "auth = tweepy.OAuthHandler(\"QsmNroZ5V6ghSPJ1TEGwMA2QR\", \"E7lHrsHc0P3EU6MYSHdzpmSkqXMNzCJYf6Mk9veCmoEB78pgIg\") #(key, secret)\n",
        "auth.set_access_token(\"3382755314-upIENhytORCLH3EKAQJl0GrHFbMXsfyHKfqlRna\", \"5i4U55MU7dvwtCN5v8ZALik5XD4qZK3Jg8bkhFrVFhscu\") #(token, secret token)\n",
        "\n",
        "\n",
        "api = tweepy.API(auth, wait_on_rate_limit=True, wait_on_rate_limit_notify=True, compression=True)\n",
        "api=tweepy.API(auth,wait_on_rate_limit=True)\n",
        "\n",
        "#client = tweepy.API(auth)\n"
      ]
    },
    {
      "cell_type": "code",
      "source": [
        "\n",
        "\n",
        "# the screen_name of the targeted user\n",
        "screen_name = \"Mayuri11147223\"\n",
        "  \n",
        "\n",
        "\n",
        "    # getting more than 30 friends\n",
        "for friend in tweepy.Cursor(api.friends, screen_name,count=5000).items():\n",
        "    print(friend.name)"
      ],
      "metadata": {
        "colab": {
          "base_uri": "https://localhost:8080/"
        },
        "id": "6evFgi02vruk",
        "outputId": "87c0dec6-efa5-4999-dcc9-570b1c49bda4"
      },
      "execution_count": 2,
      "outputs": [
        {
          "output_type": "stream",
          "name": "stdout",
          "text": [
            "Anupam Kher\n",
            "Sonam K Ahuja\n",
            "Anubrata DAS\n",
            "Utkarsh Jai\n",
            "Saptarshi Pandey\n",
            "DATRI Blood Stem Cell Donors Registry\n",
            "Epsita M\n",
            "shagun Mewara\n",
            "Aakash Biswas\n",
            "Abhishek Chatterjee\n",
            "Swan\n",
            "Debapriya Ghosh\n",
            "Sikandar G (シカンダール)\n",
            "Kunal yogi\n"
          ]
        }
      ]
    },
    {
      "cell_type": "code",
      "source": [
        "user1 = input(\"Please enter 1st twitter user\");\n",
        "user2 = input(\"Please enter 2nd twitter user\");\n",
        "ids1 = []\n",
        "for page in tweepy.Cursor(api.followers_ids, screen_name=user1).pages(5):\n",
        "    ids1.extend(page)\n",
        "    time.sleep(10)\n",
        "    \n",
        "ids2 = []\n",
        "for page in tweepy.Cursor(api.followers_ids, screen_name=user2).pages(5):\n",
        "    ids2.extend(page)\n",
        "    time.sleep(10)\n",
        "    \n",
        "\n",
        "\n",
        "\n",
        "\n",
        "\n",
        "n = 0;\n",
        "for x in range(0,len(ids1)):\n",
        "    #print \"I came here1\";\n",
        "    for y in range(0,len(ids2)):\n",
        "        #print \"I came here2\";\n",
        "        if(ids1[x] == ids2[y]):\n",
        "            print (  ids1[x] )\n",
        "            n =1;\n",
        "            break;\n",
        "\n",
        "if(n==0):\n",
        "    print (\"No common friends\")\n",
        "    "
      ],
      "metadata": {
        "colab": {
          "base_uri": "https://localhost:8080/"
        },
        "id": "HnS37kFZv2vw",
        "outputId": "0c1b5d16-b52c-4403-ec96-100774dce161"
      },
      "execution_count": 3,
      "outputs": [
        {
          "output_type": "stream",
          "name": "stdout",
          "text": [
            "Please enter 1st twitter userAbhishek Chatterjee\n",
            "Please enter 2nd twitter userShagun Mewara\n",
            "1449840103170330626\n",
            "1198290545119920128\n",
            "1171840515626528768\n",
            "1060176557392576512\n",
            "1059077343900131328\n",
            "978664515083542529\n",
            "978539710183194624\n",
            "970902176976523264\n",
            "887643769310400512\n",
            "938866978818727936\n",
            "929992924569387008\n",
            "278128524\n",
            "496952857\n",
            "834609314451058688\n",
            "3022110864\n",
            "601646603\n",
            "3895394495\n",
            "797469372155465729\n",
            "1712142655\n",
            "771743721541033984\n",
            "769542493897711616\n",
            "4883892126\n",
            "3224102347\n",
            "2229310850\n",
            "3134900958\n",
            "221024067\n",
            "3405976803\n",
            "3684218376\n",
            "2981905849\n",
            "3316146782\n"
          ]
        }
      ]
    },
    {
      "cell_type": "code",
      "source": [
        "id = 278128524\n",
        "  \n",
        "# fetching the user\n",
        "user = api.get_user(id)\n",
        "  \n",
        "# fetching the screen name\n",
        "screen_name = user.screen_name\n",
        "  \n",
        "print(\"The screen name of the user is : \" + screen_name)"
      ],
      "metadata": {
        "colab": {
          "base_uri": "https://localhost:8080/"
        },
        "id": "lsAh7cDJQpEF",
        "outputId": "2a407924-9c14-4b08-c94c-7013d9c0f51b"
      },
      "execution_count": 4,
      "outputs": [
        {
          "output_type": "stream",
          "name": "stdout",
          "text": [
            "The screen name of the user is : tweet2pulak\n"
          ]
        }
      ]
    },
    {
      "cell_type": "code",
      "source": [
        ""
      ],
      "metadata": {
        "id": "OI1Z4tTn2SVu"
      },
      "execution_count": null,
      "outputs": []
    }
  ]
}